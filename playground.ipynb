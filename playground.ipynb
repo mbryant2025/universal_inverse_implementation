{
 "cells": [
  {
   "cell_type": "code",
   "execution_count": 274,
   "metadata": {},
   "outputs": [],
   "source": [
    "import numpy as np\n",
    "import torch\n",
    "from torchsummary import summary\n",
    "import os\n",
    "\n",
    "import sys\n",
    "sys.path.insert(1, 'src')\n",
    "\n",
    "from network import BF_CNN\n",
    "# from universal_inverse_solve import universal_inverse_solver"
   ]
  },
  {
   "cell_type": "markdown",
   "metadata": {},
   "source": [
    "## Load Denoiser"
   ]
  },
  {
   "cell_type": "code",
   "execution_count": 275,
   "metadata": {},
   "outputs": [
    {
     "name": "stdout",
     "output_type": "stream",
     "text": [
      "==========================================================================================\n",
      "Layer (type:depth-idx)                   Output Shape              Param #\n",
      "==========================================================================================\n",
      "├─ModuleList: 1                          []                        --\n",
      "|    └─Conv2d: 2-1                       [-1, 64, 28, 28]          576\n",
      "|    └─Conv2d: 2-2                       [-1, 64, 28, 28]          36,864\n",
      "|    └─Conv2d: 2-3                       [-1, 64, 28, 28]          36,864\n",
      "|    └─Conv2d: 2-4                       [-1, 64, 28, 28]          36,864\n",
      "|    └─Conv2d: 2-5                       [-1, 64, 28, 28]          36,864\n",
      "|    └─Conv2d: 2-6                       [-1, 64, 28, 28]          36,864\n",
      "|    └─Conv2d: 2-7                       [-1, 64, 28, 28]          36,864\n",
      "|    └─Conv2d: 2-8                       [-1, 64, 28, 28]          36,864\n",
      "|    └─Conv2d: 2-9                       [-1, 64, 28, 28]          36,864\n",
      "|    └─Conv2d: 2-10                      [-1, 64, 28, 28]          36,864\n",
      "|    └─Conv2d: 2-11                      [-1, 64, 28, 28]          36,864\n",
      "|    └─Conv2d: 2-12                      [-1, 64, 28, 28]          36,864\n",
      "|    └─Conv2d: 2-13                      [-1, 64, 28, 28]          36,864\n",
      "|    └─Conv2d: 2-14                      [-1, 64, 28, 28]          36,864\n",
      "|    └─Conv2d: 2-15                      [-1, 64, 28, 28]          36,864\n",
      "|    └─Conv2d: 2-16                      [-1, 64, 28, 28]          36,864\n",
      "|    └─Conv2d: 2-17                      [-1, 64, 28, 28]          36,864\n",
      "|    └─Conv2d: 2-18                      [-1, 64, 28, 28]          36,864\n",
      "|    └─Conv2d: 2-19                      [-1, 64, 28, 28]          36,864\n",
      "|    └─Conv2d: 2-20                      [-1, 1, 28, 28]           576\n",
      "==========================================================================================\n",
      "Total params: 664,704\n",
      "Trainable params: 664,704\n",
      "Non-trainable params: 0\n",
      "Total mult-adds (M): 521.13\n",
      "==========================================================================================\n",
      "Input size (MB): 0.00\n",
      "Forward/backward pass size (MB): 7.28\n",
      "Params size (MB): 2.54\n",
      "Estimated Total Size (MB): 9.82\n",
      "==========================================================================================\n"
     ]
    },
    {
     "data": {
      "text/plain": [
       "==========================================================================================\n",
       "Layer (type:depth-idx)                   Output Shape              Param #\n",
       "==========================================================================================\n",
       "├─ModuleList: 1                          []                        --\n",
       "|    └─Conv2d: 2-1                       [-1, 64, 28, 28]          576\n",
       "|    └─Conv2d: 2-2                       [-1, 64, 28, 28]          36,864\n",
       "|    └─Conv2d: 2-3                       [-1, 64, 28, 28]          36,864\n",
       "|    └─Conv2d: 2-4                       [-1, 64, 28, 28]          36,864\n",
       "|    └─Conv2d: 2-5                       [-1, 64, 28, 28]          36,864\n",
       "|    └─Conv2d: 2-6                       [-1, 64, 28, 28]          36,864\n",
       "|    └─Conv2d: 2-7                       [-1, 64, 28, 28]          36,864\n",
       "|    └─Conv2d: 2-8                       [-1, 64, 28, 28]          36,864\n",
       "|    └─Conv2d: 2-9                       [-1, 64, 28, 28]          36,864\n",
       "|    └─Conv2d: 2-10                      [-1, 64, 28, 28]          36,864\n",
       "|    └─Conv2d: 2-11                      [-1, 64, 28, 28]          36,864\n",
       "|    └─Conv2d: 2-12                      [-1, 64, 28, 28]          36,864\n",
       "|    └─Conv2d: 2-13                      [-1, 64, 28, 28]          36,864\n",
       "|    └─Conv2d: 2-14                      [-1, 64, 28, 28]          36,864\n",
       "|    └─Conv2d: 2-15                      [-1, 64, 28, 28]          36,864\n",
       "|    └─Conv2d: 2-16                      [-1, 64, 28, 28]          36,864\n",
       "|    └─Conv2d: 2-17                      [-1, 64, 28, 28]          36,864\n",
       "|    └─Conv2d: 2-18                      [-1, 64, 28, 28]          36,864\n",
       "|    └─Conv2d: 2-19                      [-1, 64, 28, 28]          36,864\n",
       "|    └─Conv2d: 2-20                      [-1, 1, 28, 28]           576\n",
       "==========================================================================================\n",
       "Total params: 664,704\n",
       "Trainable params: 664,704\n",
       "Non-trainable params: 0\n",
       "Total mult-adds (M): 521.13\n",
       "==========================================================================================\n",
       "Input size (MB): 0.00\n",
       "Forward/backward pass size (MB): 7.28\n",
       "Params size (MB): 2.54\n",
       "Estimated Total Size (MB): 9.82\n",
       "=========================================================================================="
      ]
     },
     "execution_count": 275,
     "metadata": {},
     "output_type": "execute_result"
    }
   ],
   "source": [
    "# Load the denoiser architecture\n",
    "denoiser = BF_CNN()\n",
    "\n",
    "# Use GPU if available\n",
    "if torch.cuda.is_available():\n",
    "    denoiser = denoiser.cuda()\n",
    "\n",
    "# Load the learned parameters\n",
    "denoiser_path = os.path.join('denoisers','mnist.pt')\n",
    "\n",
    "if torch.cuda.is_available():\n",
    "    learned_params = torch.load(denoiser_path)\n",
    "else:\n",
    "    learned_params = torch.load(denoiser_path, map_location='cpu')\n",
    "\n",
    "denoiser.load_state_dict(learned_params)\n",
    "\n",
    "denoiser.eval()\n",
    "\n",
    "# Show summary of the denoiser\n",
    "summary(denoiser, (1, 28, 28))"
   ]
  },
  {
   "cell_type": "markdown",
   "metadata": {},
   "source": [
    "# Synthesis"
   ]
  },
  {
   "cell_type": "code",
   "execution_count": 276,
   "metadata": {},
   "outputs": [],
   "source": [
    "import numpy as np\n",
    "import torch\n",
    "from abc import ABC, abstractmethod\n",
    "\n",
    "\n",
    "class Task(ABC):\n",
    "     \n",
    "    @abstractmethod\n",
    "    def M_T(self):\n",
    "        pass\n",
    "     \n",
    "    @abstractmethod\n",
    "    def M(self):\n",
    "        pass\n",
    "\n",
    "\n",
    "class Synthesis(Task):\n",
    "        \n",
    "    def M_T(self):\n",
    "        return lambda x: torch.zeros_like(x)\n",
    "    \n",
    "    def M(self):\n",
    "        return lambda x: torch.zeros_like(x)\n",
    "            \n",
    "\n",
    "def universal_inverse_solver(x_c: torch.Tensor, denoiser: BF_CNN, task: Task, sigma_0=1, sigma_L=0.01, h_0=0.01, beta=0.01) -> [torch.Tensor]:\n",
    "\n",
    "    # M and M_T depend on the task we are performing, so input them as arguments depending on the task (ex infill)\n",
    "\n",
    "    t = 1\n",
    "\n",
    "    M = task.M()\n",
    "    M_T = task.M_T()\n",
    "\n",
    "    # N is the number of pixels in the image\n",
    "    N = x_c.shape[2] * x_c.shape[1]\n",
    "\n",
    "    # e is a matrix of 1's the shape of x_c\n",
    "    e = torch.ones_like(M(x_c), requires_grad= False)\n",
    "\n",
    "    # Draw y_0 from N(0.5 * (I - M^T M) e + M * x_c , sigma_0^2 * I)\n",
    "    # y_t = torch.normal(0.5 * (torch.eye(x_c.shape[0]) - M_T(M(e))) + M(x_c), sigma_0 ** 2 * torch.eye(x_c.shape[0]))\n",
    "    y_t = torch.normal((e - M(M_T(e)))/2 + M(x_c), sigma_0)\n",
    "    y_t = y_t.unsqueeze(0)\n",
    "    y_t.requires_grad = False\n",
    "\n",
    "    f = denoiser(y_t)\n",
    "    sigma = torch.norm(f)/np.sqrt(N)\n",
    "\n",
    "    progress_imgs = []\n",
    "\n",
    "    while sigma > sigma_L:\n",
    "\n",
    "        # Save the progress of the image every 30 iterations\n",
    "        if t % 30 == 0:\n",
    "            progress_imgs.append(y_t - denoiser(y_t))\n",
    "        \n",
    "        # Step size\n",
    "        h_t = h_0 * t / (1 + h_0 * (t - 1))\n",
    "\n",
    "        # Denoised image\n",
    "        #  f(y_t) = x^ (y) - y\n",
    "        # Denoised is the output of the denoiser - the original image\n",
    "        f = denoiser(y_t)\n",
    "\n",
    "        # d_t = (I - M M^T) f(y_t) + M (x_c - M^T y_t) \n",
    "        d_t = f - M(M_T(f[0])) + M(M_T(y_t[0])) - M(x_c)\n",
    "\n",
    "        # sigma_t = sqrt(abs(d_t)^2/N)\n",
    "\n",
    "        sigma = torch.norm(d_t)/np.sqrt(N)\n",
    "\n",
    "        # gamma_t = sqrt((1 beta * h_t)^2 - (1 - h_t)^2) * sigma_t^2)\n",
    "        gamma_t = np.sqrt((1 - beta * h_t) ** 2 - (1 - h_t) ** 2) * sigma\n",
    "\n",
    "        # Draw z_t from N(0, I)\n",
    "        # z_t = torch.normal(0, 1)\n",
    "        z_t = torch.randn(1, x_c.shape[2], x_c.shape[1])\n",
    "\n",
    "        y_t = y_t - h_t * d_t + gamma_t * z_t\n",
    "\n",
    "        t += 1\n",
    "\n",
    "    progress_imgs.append(y_t - denoiser(y_t))\n",
    "\n",
    "    return progress_imgs\n",
    "\n"
   ]
  },
  {
   "cell_type": "code",
   "execution_count": 277,
   "metadata": {},
   "outputs": [
    {
     "data": {
      "text/plain": [
       "<matplotlib.image.AxesImage at 0x1789d6150>"
      ]
     },
     "execution_count": 277,
     "metadata": {},
     "output_type": "execute_result"
    },
    {
     "data": {
      "image/png": "[encoded data removed]",
      "text/plain": [
       "<Figure size 2000x2000 with 5 Axes>"
      ]
     },
     "metadata": {},
     "output_type": "display_data"
    },
    {
     "data": {
      "image/png": "[encoded data removed]",
      "text/plain": [
       "<Figure size 500x500 with 1 Axes>"
      ]
     },
     "metadata": {},
     "output_type": "display_data"
    }
   ],
   "source": [
    "import matplotlib.pyplot as plt\n",
    "\n",
    "\n",
    "# For synthesis, both M and M_T are zero like or shape sample image\n",
    "# Images are mnist, so 28x28\n",
    "# Create a Tensor of zeros with the same shape as the sample image\n",
    "\n",
    "# Input image is 28x28 of zeros and noise will be added to it\n",
    "# This will be synthesized by the denoiser\n",
    "patch_size = (1, 28, 28) # 1 channel, 28x28\n",
    "x_c = torch.zeros(patch_size) \n",
    "\n",
    "synth_images = universal_inverse_solver(x_c, denoiser, Synthesis())\n",
    "\n",
    "# Reshape the synthesized image to be 28x28\n",
    "synth_images = [synth.view(1,1,28,28) for synth in synth_images]\n",
    "\n",
    "# Show synthesized images\n",
    "fig, axs = plt.subplots(1, len(synth_images), figsize=(20, 20))\n",
    "for i, img in enumerate(synth_images):\n",
    "    axs[i].imshow(img[0,0,:,:].detach().numpy(), cmap='gray')\n",
    "    axs[i].axis('off')\n",
    "\n",
    "# Show last synthesized image\n",
    "plt.figure(figsize=(5, 5))\n",
    "plt.imshow(synth_images[-1][0,0,:,:].detach().numpy(), cmap='gray')"
   ]
  },
  {
   "cell_type": "markdown",
   "metadata": {},
   "source": [
    "## Load Sample Image"
   ]
  },
  {
   "cell_type": "code",
   "execution_count": 278,
   "metadata": {},
   "outputs": [
    {
     "data": {
      "text/plain": [
       "<matplotlib.image.AxesImage at 0x17b3578d0>"
      ]
     },
     "execution_count": 278,
     "metadata": {},
     "output_type": "execute_result"
    },
    {
     "data": {
      "image/png": "[encoded data removed]",
      "text/plain": [
       "<Figure size 640x480 with 1 Axes>"
      ]
     },
     "metadata": {},
     "output_type": "display_data"
    }
   ],
   "source": [
    "# Now load an image from the dataset and display it\n",
    "\n",
    "import gzip\n",
    "import random\n",
    "\n",
    "def load_img(image_number=random.randint(0,1000)):\n",
    "    f = gzip.open('data/t10k-images-idx3-ubyte.gz','r')\n",
    "    f.read(16)\n",
    "    buf = f.read(28 * 28 *10000)\n",
    "    data = np.frombuffer(buf, dtype=np.uint8).astype(float)/255\n",
    "    x = torch.tensor(data.reshape( 10000,28, 28).astype('float32'))[image_number:image_number+1]\n",
    "\n",
    "    return x\n",
    "\n",
    "x = load_img()\n",
    "\n",
    "plt.imshow(x[0,:,:].detach().numpy(), cmap='gray')\n"
   ]
  },
  {
   "cell_type": "markdown",
   "metadata": {},
   "source": [
    "## Corrupt Sample Image By Removing Rectangular Patches"
   ]
  },
  {
   "cell_type": "code",
   "execution_count": 279,
   "metadata": {},
   "outputs": [
    {
     "name": "stdout",
     "output_type": "stream",
     "text": [
      "Position: (10, 8), Dimensions: (12, 7)\n"
     ]
    },
    {
     "data": {
      "text/plain": [
       "<matplotlib.image.AxesImage at 0x1782f8b90>"
      ]
     },
     "execution_count": 279,
     "metadata": {},
     "output_type": "execute_result"
    },
    {
     "data": {
      "image/png": "[encoded data removed]",
      "text/plain": [
       "<Figure size 1000x1000 with 2 Axes>"
      ]
     },
     "metadata": {},
     "output_type": "display_data"
    }
   ],
   "source": [
    "import matplotlib\n",
    "\n",
    "# Random location on image\n",
    "half_image_size = 28/2\n",
    "quarter_image_size = 28/4\n",
    "\n",
    "# Place rectangle in roughly center of image\n",
    "rectangle_pos = (random.randint(quarter_image_size,half_image_size-1), random.randint(quarter_image_size,half_image_size-1))\n",
    "\n",
    "# Random size rectangle\n",
    "min_ = 6\n",
    "max_ = 12\n",
    "rectangle_dimensions = (random.randint(min_,max_), random.randint(min_,max_))\n",
    "\n",
    "print(f'Position: {rectangle_pos}, Dimensions: {rectangle_dimensions}')\n",
    "\n",
    "fig, ax = plt.subplots(1, 2, figsize=(10,10))\n",
    "\n",
    "# Plot the image with the rectangle in red\n",
    "ax[0].imshow(x[0,:,:].detach().numpy(), cmap='gray')\n",
    "\n",
    "# 2x2 rectangle at 5,5\n",
    "ax[0].add_patch(matplotlib.patches.Rectangle(rectangle_pos, rectangle_dimensions[0], rectangle_dimensions[1], color='red'))\n",
    "\n",
    "# Create a mask of zeros with the same size as the image\n",
    "mask = torch.ones_like(x)\n",
    "\n",
    "# Set the mask to zero where the rectangle is\n",
    "mask[0,rectangle_pos[1]:rectangle_pos[1]+rectangle_dimensions[1],rectangle_pos[0]:rectangle_pos[0]+rectangle_dimensions[0]] = 0\n",
    "\n",
    "# Multiply the image by the mask to remove the rectangle\n",
    "x_c = x * mask\n",
    "\n",
    "# Plot the masked image\n",
    "ax[1].imshow(x_c[0,:,:].detach().numpy(), cmap='gray')\n",
    "\n",
    "\n"
   ]
  },
  {
   "cell_type": "markdown",
   "metadata": {},
   "source": [
    "## Inpaint Corrupted Image"
   ]
  },
  {
   "cell_type": "code",
   "execution_count": 280,
   "metadata": {},
   "outputs": [
    {
     "data": {
      "text/plain": [
       "<matplotlib.image.AxesImage at 0x1784bc710>"
      ]
     },
     "execution_count": 280,
     "metadata": {},
     "output_type": "execute_result"
    },
    {
     "data": {
      "image/png": "[encoded data removed]",
      "text/plain": [
       "<Figure size 2000x2000 with 13 Axes>"
      ]
     },
     "metadata": {},
     "output_type": "display_data"
    },
    {
     "data": {
      "image/png": "[encoded data removed]",
      "text/plain": [
       "<Figure size 500x500 with 1 Axes>"
      ]
     },
     "metadata": {},
     "output_type": "display_data"
    }
   ],
   "source": [
    "class Inpaint(Task):\n",
    "    \n",
    "    def __init__(self, x_c, rectangle_pos, rectangle_size):\n",
    "        self.x_c = x_c\n",
    "        self.mask = torch.ones(x_c.shape)\n",
    "\n",
    "        # Half the height and width of the rectangle\n",
    "        h, w = rectangle_size[0] // 2, rectangle_size[1] // 2\n",
    "\n",
    "        # Center of the rectangle\n",
    "        c1, c2 = rectangle_pos[0] + h, rectangle_pos[1] + w\n",
    "\n",
    "        # Number of channels\n",
    "        n_ch = x_c.shape[0]\n",
    "\n",
    "        self.mask[0:n_ch, c1-h : c1+h , c2-w:c2+w] = 0\n",
    "\n",
    "    def M_T(self):\n",
    "        return lambda x: self.mask * x\n",
    "    \n",
    "    def M(self):\n",
    "        return lambda x: self.mask * x\n",
    "    \n",
    "\n",
    "synth_images = universal_inverse_solver(x_c, denoiser, Inpaint(x_c, rectangle_pos, rectangle_dimensions))\n",
    "\n",
    "# Reshape the synthesized image to be 28x28\n",
    "synth_images = [synth.view(1,1,28,28) for synth in synth_images]\n",
    "\n",
    "# Show synthesized images\n",
    "fig, axs = plt.subplots(1, len(synth_images), figsize=(20, 20))\n",
    "for i, img in enumerate(synth_images):\n",
    "    axs[i].imshow(img[0,0,:,:].detach().numpy(), cmap='gray')\n",
    "    axs[i].axis('off')\n",
    "\n",
    "# Show last synthesized image\n",
    "plt.figure(figsize=(5, 5))\n",
    "plt.imshow(synth_images[-1][0,0,:,:].detach().numpy(), cmap='gray')"
   ]
  },
  {
   "cell_type": "markdown",
   "metadata": {},
   "source": [
    "## Missing Random Pixels"
   ]
  }
 ],
 "metadata": {
  "kernelspec": {
   "display_name": "Python 3",
   "language": "python",
   "name": "python3"
  },
  "language_info": {
   "codemirror_mode": {
    "name": "ipython",
    "version": 3
   },
   "file_extension": ".py",
   "mimetype": "text/x-python",
   "name": "python",
   "nbconvert_exporter": "python",
   "pygments_lexer": "ipython3",
   "version": "3.11.1"
  }
 },
 "nbformat": 4,
 "nbformat_minor": 2
}
