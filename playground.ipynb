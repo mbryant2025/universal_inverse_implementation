{
 "cells": [
  {
   "cell_type": "code",
   "execution_count": 3,
   "metadata": {},
   "outputs": [],
   "source": [
    "import numpy as np\n",
    "import torch\n",
    "from torchsummary import summary\n",
    "import os\n",
    "\n",
    "import sys\n",
    "sys.path.insert(1, 'src')\n",
    "\n",
    "from network import BF_CNN"
   ]
  },
  {
   "cell_type": "markdown",
   "metadata": {},
   "source": [
    "## Load Denoiser"
   ]
  },
  {
   "cell_type": "code",
   "execution_count": 4,
   "metadata": {},
   "outputs": [
    {
     "name": "stdout",
     "output_type": "stream",
     "text": [
      "==========================================================================================\n",
      "Layer (type:depth-idx)                   Output Shape              Param #\n",
      "==========================================================================================\n",
      "├─ModuleList: 1                          []                        --\n",
      "|    └─Conv2d: 2-1                       [-1, 64, 28, 28]          576\n",
      "|    └─Conv2d: 2-2                       [-1, 64, 28, 28]          36,864\n",
      "|    └─Conv2d: 2-3                       [-1, 64, 28, 28]          36,864\n",
      "|    └─Conv2d: 2-4                       [-1, 64, 28, 28]          36,864\n",
      "|    └─Conv2d: 2-5                       [-1, 64, 28, 28]          36,864\n",
      "|    └─Conv2d: 2-6                       [-1, 64, 28, 28]          36,864\n",
      "|    └─Conv2d: 2-7                       [-1, 64, 28, 28]          36,864\n",
      "|    └─Conv2d: 2-8                       [-1, 64, 28, 28]          36,864\n",
      "|    └─Conv2d: 2-9                       [-1, 64, 28, 28]          36,864\n",
      "|    └─Conv2d: 2-10                      [-1, 64, 28, 28]          36,864\n",
      "|    └─Conv2d: 2-11                      [-1, 64, 28, 28]          36,864\n",
      "|    └─Conv2d: 2-12                      [-1, 64, 28, 28]          36,864\n",
      "|    └─Conv2d: 2-13                      [-1, 64, 28, 28]          36,864\n",
      "|    └─Conv2d: 2-14                      [-1, 64, 28, 28]          36,864\n",
      "|    └─Conv2d: 2-15                      [-1, 64, 28, 28]          36,864\n",
      "|    └─Conv2d: 2-16                      [-1, 64, 28, 28]          36,864\n",
      "|    └─Conv2d: 2-17                      [-1, 64, 28, 28]          36,864\n",
      "|    └─Conv2d: 2-18                      [-1, 64, 28, 28]          36,864\n",
      "|    └─Conv2d: 2-19                      [-1, 64, 28, 28]          36,864\n",
      "|    └─Conv2d: 2-20                      [-1, 1, 28, 28]           576\n",
      "==========================================================================================\n",
      "Total params: 664,704\n",
      "Trainable params: 664,704\n",
      "Non-trainable params: 0\n",
      "Total mult-adds (M): 521.13\n",
      "==========================================================================================\n",
      "Input size (MB): 0.00\n",
      "Forward/backward pass size (MB): 7.28\n",
      "Params size (MB): 2.54\n",
      "Estimated Total Size (MB): 9.82\n",
      "==========================================================================================\n"
     ]
    },
    {
     "data": {
      "text/plain": [
       "==========================================================================================\n",
       "Layer (type:depth-idx)                   Output Shape              Param #\n",
       "==========================================================================================\n",
       "├─ModuleList: 1                          []                        --\n",
       "|    └─Conv2d: 2-1                       [-1, 64, 28, 28]          576\n",
       "|    └─Conv2d: 2-2                       [-1, 64, 28, 28]          36,864\n",
       "|    └─Conv2d: 2-3                       [-1, 64, 28, 28]          36,864\n",
       "|    └─Conv2d: 2-4                       [-1, 64, 28, 28]          36,864\n",
       "|    └─Conv2d: 2-5                       [-1, 64, 28, 28]          36,864\n",
       "|    └─Conv2d: 2-6                       [-1, 64, 28, 28]          36,864\n",
       "|    └─Conv2d: 2-7                       [-1, 64, 28, 28]          36,864\n",
       "|    └─Conv2d: 2-8                       [-1, 64, 28, 28]          36,864\n",
       "|    └─Conv2d: 2-9                       [-1, 64, 28, 28]          36,864\n",
       "|    └─Conv2d: 2-10                      [-1, 64, 28, 28]          36,864\n",
       "|    └─Conv2d: 2-11                      [-1, 64, 28, 28]          36,864\n",
       "|    └─Conv2d: 2-12                      [-1, 64, 28, 28]          36,864\n",
       "|    └─Conv2d: 2-13                      [-1, 64, 28, 28]          36,864\n",
       "|    └─Conv2d: 2-14                      [-1, 64, 28, 28]          36,864\n",
       "|    └─Conv2d: 2-15                      [-1, 64, 28, 28]          36,864\n",
       "|    └─Conv2d: 2-16                      [-1, 64, 28, 28]          36,864\n",
       "|    └─Conv2d: 2-17                      [-1, 64, 28, 28]          36,864\n",
       "|    └─Conv2d: 2-18                      [-1, 64, 28, 28]          36,864\n",
       "|    └─Conv2d: 2-19                      [-1, 64, 28, 28]          36,864\n",
       "|    └─Conv2d: 2-20                      [-1, 1, 28, 28]           576\n",
       "==========================================================================================\n",
       "Total params: 664,704\n",
       "Trainable params: 664,704\n",
       "Non-trainable params: 0\n",
       "Total mult-adds (M): 521.13\n",
       "==========================================================================================\n",
       "Input size (MB): 0.00\n",
       "Forward/backward pass size (MB): 7.28\n",
       "Params size (MB): 2.54\n",
       "Estimated Total Size (MB): 9.82\n",
       "=========================================================================================="
      ]
     },
     "execution_count": 4,
     "metadata": {},
     "output_type": "execute_result"
    }
   ],
   "source": [
    "# Load the denoiser architecture\n",
    "denoiser = BF_CNN()\n",
    "\n",
    "# Use GPU if available\n",
    "if torch.cuda.is_available():\n",
    "    denoiser = denoiser.cuda()\n",
    "\n",
    "# Load the learned parameters\n",
    "denoiser_path = os.path.join('denoisers','mnist.pt')\n",
    "\n",
    "if torch.cuda.is_available():\n",
    "    learned_params =torch.load(denoiser_path)\n",
    "else:\n",
    "    learned_params =torch.load(denoiser_path, map_location='cpu')\n",
    "\n",
    "denoiser.load_state_dict(learned_params)\n",
    "\n",
    "# Show summary of the denoiser\n",
    "summary(denoiser, (1, 28, 28))"
   ]
  }
 ],
 "metadata": {
  "kernelspec": {
   "display_name": "Python 3",
   "language": "python",
   "name": "python3"
  },
  "language_info": {
   "codemirror_mode": {
    "name": "ipython",
    "version": 3
   },
   "file_extension": ".py",
   "mimetype": "text/x-python",
   "name": "python",
   "nbconvert_exporter": "python",
   "pygments_lexer": "ipython3",
   "version": "3.11.1"
  }
 },
 "nbformat": 4,
 "nbformat_minor": 2
}
